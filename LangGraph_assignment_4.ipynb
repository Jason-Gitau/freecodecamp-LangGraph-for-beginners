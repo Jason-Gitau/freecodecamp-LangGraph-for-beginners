{
  "nbformat": 4,
  "nbformat_minor": 0,
  "metadata": {
    "colab": {
      "provenance": [],
      "authorship_tag": "ABX9TyMCXrP4HEscyg2TXU3cLVpJ",
      "include_colab_link": true
    },
    "kernelspec": {
      "name": "python3",
      "display_name": "Python 3"
    },
    "language_info": {
      "name": "python"
    }
  },
  "cells": [
    {
      "cell_type": "markdown",
      "metadata": {
        "id": "view-in-github",
        "colab_type": "text"
      },
      "source": [
        "<a href=\"https://colab.research.google.com/github/Jason-Gitau/freecodecamp-LangGraph-for-beginners/blob/main/LangGraph_assignment_4.ipynb\" target=\"_parent\"><img src=\"https://colab.research.google.com/assets/colab-badge.svg\" alt=\"Open In Colab\"/></a>"
      ]
    },
    {
      "cell_type": "code",
      "execution_count": null,
      "metadata": {
        "id": "1bX12WTIts_M"
      },
      "outputs": [],
      "source": [
        "\"\"\"Your task:\n",
        "\n",
        "Make the graph on the right! You will need to make use of 2 conditional edges!\n",
        "\n",
        "Input: initial_state = AgentState(number1 = 10, operation=\"-\", number2 = 5, number3 = 7, number4=2, operation2=\"+\", finalNumber= 0, finalNumber2 = 0)\"\"\""
      ]
    },
    {
      "cell_type": "code",
      "source": [
        "from typing import  TypedDict\n",
        "\n",
        "# !pip install langgraph\n",
        "\n",
        "from langgraph.graph import StateGraph,START,END"
      ],
      "metadata": {
        "id": "ydEwZMnJuJJp"
      },
      "execution_count": null,
      "outputs": []
    },
    {
      "cell_type": "code",
      "source": [
        "class AgentState(TypedDict):\n",
        "    number1: int\n",
        "    operation: str\n",
        "    number2: int\n",
        "    number3: int\n",
        "    number4: int\n",
        "    operation2: str\n",
        "    finalNumber: int\n",
        "    finalNumber2: int"
      ],
      "metadata": {
        "id": "xhYTzLoeuXNX"
      },
      "execution_count": null,
      "outputs": []
    },
    {
      "cell_type": "code",
      "source": [
        "def adder(state: AgentState):\n",
        "  \"\"\" this node add 2 numbers\"\"\"\n",
        "  state['finalNumber']=state['number1']+state['number2']\n",
        "  return state\n",
        "\n",
        "def subtractor(state: AgentState):\n",
        "  \"\"\" this node subtract 2 numbers\"\"\"\n",
        "  state['finalNumber']=state['number1']-state['number2']\n",
        "  return state\n",
        "\n",
        "def adder2(state: AgentState):\n",
        "  \"\"\" this node add 2 numbers\"\"\"\n",
        "  state['finalNumber2']=state['number3']+state['number4']\n",
        "  return state\n",
        "\n",
        "def subtractor2(state: AgentState):\n",
        "  \"\"\" this node subtract 2 numbers\"\"\"\n",
        "  state['finalNumber2']=state['number3']-state['number4']\n",
        "  return state\n",
        "\n",
        "\n",
        "def decider(state: AgentState):\n",
        "  \"\"\" this node decide which operation to perform\"\"\"\n",
        "  if state['operation']=='+':\n",
        "    return \"additional operation\"\n",
        "  elif state['operation']=='-':\n",
        "    return \"subtraction operation\"\n",
        "  else:\n",
        "    return \"no operation\"\n",
        "\n",
        "def decider2(state: AgentState):\n",
        "  \"\"\" this node decide which operation to perform\"\"\"\n",
        "  if state['operation2']=='+':\n",
        "    return \"additional operation\"\n",
        "  elif state['operation2']=='-':\n",
        "    return \"subtraction operation\""
      ],
      "metadata": {
        "id": "XrgiC95qu2Vo"
      },
      "execution_count": null,
      "outputs": []
    },
    {
      "cell_type": "code",
      "source": [
        "graph=StateGraph(AgentState)\n",
        "\n",
        "graph.add_node('router',lambda state:state)  #pass through function\n",
        "graph.add_node(\"add_node1\",adder)\n",
        "graph.add_node(\"subtract_node1\",subtractor)\n",
        "\n",
        "graph.add_node('router2',lambda state:state)\n",
        "graph.add_node(\"add_node2\",adder2)\n",
        "graph.add_node(\"subtract_node2\",subtractor2)\n",
        "\n",
        "############################################################################33\n",
        "\n",
        "graph.add_edge(START,\"router\")\n",
        "graph.add_conditional_edges(\n",
        "    \"router\",\n",
        "    decider,\n",
        "    {\n",
        "        # edge node\n",
        "        \"additional operation\":\"add_node1\",\n",
        "        \"subtraction operation\":\"subtract_node1\"\n",
        "    }\n",
        ")\n",
        "\n",
        "graph.add_edge(\"add_node1\",\"router2\")\n",
        "graph.add_edge(\"subtract_node1\",\"router2\")\n",
        "\n",
        "graph.add_conditional_edges(\n",
        "    \"router2\",\n",
        "    decider2,\n",
        "    {\n",
        "        # edge node\n",
        "        \"additional operation\":\"add_node2\",\n",
        "        \"subtraction operation\":\"subtract_node2\"\n",
        "    }\n",
        ")\n",
        "graph.add_edge(\"add_node2\",END)\n",
        "graph.add_edge(\"subtract_node2\",END)\n",
        "\n",
        "app=graph.compile()"
      ],
      "metadata": {
        "id": "rX9u4MwovY45"
      },
      "execution_count": null,
      "outputs": []
    },
    {
      "cell_type": "code",
      "source": [
        "from IPython.display import Image, display\n",
        "display(Image(app.get_graph().draw_mermaid_png()))"
      ],
      "metadata": {
        "colab": {
          "base_uri": "https://localhost:8080/",
          "height": 596
        },
        "id": "ZIvgtZV6xXXG",
        "outputId": "35d9a96c-4ef0-4e98-bf7b-9c46e771be2d"
      },
      "execution_count": null,
      "outputs": [
        {
          "output_type": "display_data",
          "data": {
            "image/png": "[encoded data removed]",
            "text/plain": [
              "<IPython.core.display.Image object>"
            ]
          },
          "metadata": {}
        }
      ]
    },
    {
      "cell_type": "code",
      "source": [
        "initial_state = AgentState(number1 = 10, operation=\"-\", number2 = 5, number3 = 7, number4=2, operation2=\"+\" )"
      ],
      "metadata": {
        "id": "k3M7XPa8z703"
      },
      "execution_count": null,
      "outputs": []
    },
    {
      "cell_type": "code",
      "source": [
        "print(app.invoke(initial_state))"
      ],
      "metadata": {
        "colab": {
          "base_uri": "https://localhost:8080/"
        },
        "id": "ssSlu8xn0Kjb",
        "outputId": "5f87960a-8a57-4706-efbc-f092149841d1"
      },
      "execution_count": null,
      "outputs": [
        {
          "output_type": "stream",
          "name": "stdout",
          "text": [
            "{'number1': 10, 'operation': '-', 'number2': 5, 'number3': 7, 'number4': 2, 'operation2': '+', 'finalNumber': 5, 'finalNumber2': 9}\n"
          ]
        }
      ]
    }
  ]
}