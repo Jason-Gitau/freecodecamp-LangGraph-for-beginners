{
  "nbformat": 4,
  "nbformat_minor": 0,
  "metadata": {
    "colab": {
      "provenance": [],
      "authorship_tag": "ABX9TyN/RmiXvmezIRqesiOMbmwR",
      "include_colab_link": true
    },
    "kernelspec": {
      "name": "python3",
      "display_name": "Python 3"
    },
    "language_info": {
      "name": "python"
    }
  },
  "cells": [
    {
      "cell_type": "markdown",
      "metadata": {
        "id": "view-in-github",
        "colab_type": "text"
      },
      "source": [
        "<a href=\"https://colab.research.google.com/github/Jason-Gitau/freecodecamp-LangGraph-for-beginners/blob/main/LangGraph_assignment_3.ipynb\" target=\"_parent\"><img src=\"https://colab.research.google.com/assets/colab-badge.svg\" alt=\"Open In Colab\"/></a>"
      ]
    },
    {
      "cell_type": "code",
      "execution_count": null,
      "metadata": {
        "colab": {
          "base_uri": "https://localhost:8080/",
          "height": 109
        },
        "id": "bvlyT0oUlt54",
        "outputId": "4fcee6ce-b3f7-4006-dd4f-966ea170251a"
      },
      "outputs": [
        {
          "output_type": "error",
          "ename": "SyntaxError",
          "evalue": "unterminated string literal (detected at line 15) (ipython-input-29-3906560061.py, line 15)",
          "traceback": [
            "\u001b[0;36m  File \u001b[0;32m\"/tmp/ipython-input-29-3906560061.py\"\u001b[0;36m, line \u001b[0;32m15\u001b[0m\n\u001b[0;31m    Output: \"Linda, welcome to the system! You are 31 years old! You have skills in: Python, Machine Learning, and LangGraph\"\"\"\"\u001b[0m\n\u001b[0m                                                                                                                               ^\u001b[0m\n\u001b[0;31mSyntaxError\u001b[0m\u001b[0;31m:\u001b[0m unterminated string literal (detected at line 15)\n"
          ]
        }
      ],
      "source": [
        "\"\"\"Your task:\n",
        "\n",
        "Accept a user's name, age, and a list of their skills.\n",
        "\n",
        "Pass the state through three nodes that:\n",
        "\n",
        "      First node: Personalizes the name field with a greeting.\n",
        "\n",
        "      Second node: Describes the user's age.\n",
        "\n",
        "      Third node: Lists the user's skills in a formatted string.\n",
        "\n",
        "The final output in the result field should be a combined message in this format:\n",
        "\n",
        "Output: \"Linda, welcome to the system! You are 31 years old! You have skills in: Python, Machine Learning, and LangGraph\"\"\"\""
      ]
    },
    {
      "cell_type": "code",
      "source": [
        "from typing import TypedDict,List\n",
        "\n",
        "# !pip install LangGraph\n",
        "\n",
        "from langgraph.graph import StateGraph"
      ],
      "metadata": {
        "id": "2QcBUbsJl-A5"
      },
      "execution_count": null,
      "outputs": []
    },
    {
      "cell_type": "code",
      "source": [
        "from typing import TypedDict\n",
        "\n",
        "class AgentState(TypedDict):\n",
        "  name:str\n",
        "  age:int\n",
        "  skills:List[str]\n",
        "  final:str"
      ],
      "metadata": {
        "id": "54jOnhfxmlTM"
      },
      "execution_count": null,
      "outputs": []
    },
    {
      "cell_type": "code",
      "source": [
        "# first node\n",
        "def first_node(state: AgentState) -> AgentState:\n",
        "    \"\"\"this is the first node\"\"\"\n",
        "    state['final'] = f\"{state['name']}, welcome to the system!\"\n",
        "    return state\n",
        "\n",
        "# second node\n",
        "def second_node(state: AgentState) -> AgentState:\n",
        "    \"\"\"this is the second node\"\"\"\n",
        "    state['final'] += f\" You are {state['age']} years old!\"\n",
        "    return state\n",
        "\n",
        "# third node\n",
        "def third_node(state: AgentState) -> AgentState:\n",
        "    \"\"\"this is the third node\"\"\"\n",
        "    skills = state['skills']\n",
        "    if len(skills) > 1:\n",
        "        skills_str = \", \".join(skills[:-1]) + \", and \" + skills[-1]\n",
        "    elif len(skills) == 1:\n",
        "        skills_str = skills[0]\n",
        "    else:\n",
        "        skills_str = \"\"\n",
        "\n",
        "    state['final'] += f\" You have skills in: {skills_str}.\"\n",
        "    return state"
      ],
      "metadata": {
        "id": "pd7OXoh6m9QQ"
      },
      "execution_count": null,
      "outputs": []
    },
    {
      "cell_type": "code",
      "source": [
        "graph=StateGraph(AgentState)\n",
        "\n",
        "graph.add_node('first node',first_node)\n",
        "graph.add_node('second node',second_node)\n",
        "graph.add_node('third node',third_node)\n",
        "\n",
        "graph.set_entry_point('first node')\n",
        "graph.add_edge('first node','second node')\n",
        "graph.add_edge('second node','third node') # Add edge from second to third node\n",
        "graph.set_finish_point('third node')\n",
        "\n",
        "app=graph.compile()"
      ],
      "metadata": {
        "id": "KZ_EilV1ntAW"
      },
      "execution_count": null,
      "outputs": []
    },
    {
      "cell_type": "code",
      "source": [
        "from IPython.display import Image, display\n",
        "display(Image(app.get_graph().draw_mermaid_png()))"
      ],
      "metadata": {
        "colab": {
          "base_uri": "https://localhost:8080/",
          "height": 449
        },
        "id": "lF5epXpmpBtZ",
        "outputId": "5703ddbc-e0c2-4303-baa5-2b96eb346c8e"
      },
      "execution_count": null,
      "outputs": [
        {
          "output_type": "display_data",
          "data": {
            "image/png": "[encoded data removed]",
            "text/plain": [
              "<IPython.core.display.Image object>"
            ]
          },
          "metadata": {}
        }
      ]
    },
    {
      "cell_type": "code",
      "source": [
        "result=app.invoke(input={'name':'Linda','age':31,'skills':['Python','Machine Learning','LangGraph']})\n",
        "print(result['final'])"
      ],
      "metadata": {
        "colab": {
          "base_uri": "https://localhost:8080/"
        },
        "id": "r1q-6071pQ-G",
        "outputId": "8826f9cc-bf0b-4b9f-e6bc-3f5f2df6bdf8"
      },
      "execution_count": null,
      "outputs": [
        {
          "output_type": "stream",
          "name": "stdout",
          "text": [
            "Linda, welcome to the system! You are 31 years old! You have skills in: Python, Machine Learning, and LangGraph.\n"
          ]
        }
      ]
    }
  ]
}