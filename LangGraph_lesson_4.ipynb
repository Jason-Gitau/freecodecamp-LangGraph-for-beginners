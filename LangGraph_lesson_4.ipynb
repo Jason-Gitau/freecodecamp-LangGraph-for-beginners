{
  "nbformat": 4,
  "nbformat_minor": 0,
  "metadata": {
    "colab": {
      "provenance": [],
      "authorship_tag": "ABX9TyNwSczWDEVa1DlKBtwRtz5B",
      "include_colab_link": true
    },
    "kernelspec": {
      "name": "python3",
      "display_name": "Python 3"
    },
    "language_info": {
      "name": "python"
    }
  },
  "cells": [
    {
      "cell_type": "markdown",
      "metadata": {
        "id": "view-in-github",
        "colab_type": "text"
      },
      "source": [
        "<a href=\"https://colab.research.google.com/github/Jason-Gitau/freecodecamp-LangGraph-for-beginners/blob/main/LangGraph_lesson_4.ipynb\" target=\"_parent\"><img src=\"https://colab.research.google.com/assets/colab-badge.svg\" alt=\"Open In Colab\"/></a>"
      ]
    },
    {
      "cell_type": "code",
      "execution_count": null,
      "metadata": {
        "id": "oB3gla9UtUQc"
      },
      "outputs": [],
      "source": [
        "# conditional graphs"
      ]
    },
    {
      "cell_type": "code",
      "source": [
        "from typing import  TypedDict\n",
        "\n",
        "# !pip install langgraph\n",
        "\n",
        "from langgraph.graph import StateGraph,START,END"
      ],
      "metadata": {
        "id": "DCCSJprMuEi1"
      },
      "execution_count": null,
      "outputs": []
    },
    {
      "cell_type": "code",
      "source": [
        "class AgentState(TypedDict):\n",
        "    number1: int\n",
        "    operation: str\n",
        "    number2: int\n",
        "    result: int"
      ],
      "metadata": {
        "id": "8ujUEua1uapB"
      },
      "execution_count": null,
      "outputs": []
    },
    {
      "cell_type": "code",
      "source": [
        "def adder(state: AgentState):\n",
        "  \"\"\" this node add 2 numbers\"\"\"\n",
        "  state['result']=state['number1']+state['number2']\n",
        "  return state\n",
        "\n",
        "def subtractor(state: AgentState):\n",
        "  \"\"\" this node subtract 2 numbers\"\"\"\n",
        "  state['result']=state['number1']-state['number2']\n",
        "  return state\n",
        "\n",
        "\n",
        "def decider(state: AgentState):\n",
        "  \"\"\" this node decide which operation to perform\"\"\"\n",
        "  if state['operation']=='+':\n",
        "    return \"additional operation\"\n",
        "  elif state['operation']=='-':\n",
        "    return \"subtraction operation\"\n",
        "  else:\n",
        "    return \"no operation\""
      ],
      "metadata": {
        "id": "nIMtEq4Wuzgx"
      },
      "execution_count": null,
      "outputs": []
    },
    {
      "cell_type": "code",
      "source": [
        "graph=StateGraph(AgentState)\n",
        "\n",
        "graph.add_node('router',lambda state:state)  #pass through function\n",
        "graph.add_node(\"add_node\",adder)\n",
        "graph.add_node(\"subtract_node\",subtractor)\n",
        "\n",
        "graph.add_edge(START,\"router\")\n",
        "graph.add_conditional_edges(\n",
        "    \"router\",\n",
        "    decider,\n",
        "    {\n",
        "        # edge node\n",
        "        \"additional operation\":\"add_node\",\n",
        "        \"subtraction operation\":\"subtract_node\"\n",
        "    }\n",
        ")\n",
        "\n",
        "graph.add_edge(\"add_node\",END)\n",
        "graph.add_edge(\"subtract_node\",END)\n",
        "\n",
        "app=graph.compile()"
      ],
      "metadata": {
        "id": "oDFTW6USwbyC"
      },
      "execution_count": null,
      "outputs": []
    },
    {
      "cell_type": "code",
      "source": [
        "from IPython.display import Image, display\n",
        "display(Image(app.get_graph().draw_mermaid_png()))"
      ],
      "metadata": {
        "colab": {
          "base_uri": "https://localhost:8080/",
          "height": 374
        },
        "id": "oHrVd3Wzy9lB",
        "outputId": "158ac2e6-f490-4b36-f27d-708b0c9cdebc"
      },
      "execution_count": null,
      "outputs": [
        {
          "output_type": "display_data",
          "data": {
            "image/png": "[encoded data removed]",
            "text/plain": [
              "<IPython.core.display.Image object>"
            ]
          },
          "metadata": {}
        }
      ]
    },
    {
      "cell_type": "code",
      "source": [
        "initial_state_1=AgentState(number1=10,number2=5,operation='+')\n",
        "print(app.invoke(initial_state_1))\n",
        "initial_state_2=AgentState(number1=10,number2=5,operation='-')\n",
        "print(app.invoke(initial_state_2))"
      ],
      "metadata": {
        "colab": {
          "base_uri": "https://localhost:8080/"
        },
        "id": "1MCxShrozgiL",
        "outputId": "0e3b1396-1306-46f0-e4b9-0403cab3a6d9"
      },
      "execution_count": null,
      "outputs": [
        {
          "output_type": "stream",
          "name": "stdout",
          "text": [
            "{'number1': 10, 'operation': '+', 'number2': 5, 'result': 15}\n",
            "{'number1': 10, 'operation': '-', 'number2': 5, 'result': 5}\n"
          ]
        }
      ]
    }
  ]
}